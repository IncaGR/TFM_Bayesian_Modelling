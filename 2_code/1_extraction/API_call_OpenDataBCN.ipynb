{
 "cells": [
  {
   "cell_type": "code",
   "execution_count": 1,
   "metadata": {},
   "outputs": [],
   "source": [
    "import pprint\n",
    "import requests     # 2.18.4\n",
    "import json  \n",
    "import pandas as pd\n",
    "import re\n",
    "import numpy as np\n",
    "import os"
   ]
  },
  {
   "cell_type": "markdown",
   "metadata": {},
   "source": [
    "# Recursos\n",
    "\n",
    "* https://www.pythonsherpa.com/tutorials/2/ --how to connect API\n",
    "* https://data.metabolismofcities.org/library/maps/577245/view/ shapefile Barris Barcelona\n",
    "* https://opendata-ajuntament.barcelona.cat/data/es/dataset/sanitat-hospitals-atencio-primaria/resource/9e135848-eb0a-4bc5-8e60-de558213b3ed Hospitals i centres d'atencio primaria\n",
    "* https://opendata-ajuntament.barcelona.cat/data/es/dataset/punts-informacio-turistica/resource/31431b23-d5b9-42b8-bcd0-a84da9d8c7fa\n",
    "Sitios de interes turistico\n",
    "* https://opendata-ajuntament.barcelona.cat/data/es/dataset/equipament-sanitat/resource/2bf62aa3-63c8-4177-b57a-e32a8c7eb275 farmacias + hospitals \n",
    "* https://opendata-ajuntament.barcelona.cat/data/es/dataset/equipament-educacio/resource/29d9ff10-6892-4f16-9012-d5c4997857e7 equipament educació\n",
    "* https://opendata-ajuntament.barcelona.cat/data/es/dataset/trams-aparcament-superficie/resource/26f6ecdd-b0ac-46c4-84f0-a312640913ca trams aparcament BCN\n",
    "* https://opendata-ajuntament.barcelona.cat/data/es/dataset/culturailleure-parcsjardins/resource/b64d32a8-aea5-47a8-9826-479b211f5d46 parcs i jardins\n",
    "* https://opendata-ajuntament.barcelona.cat/data/es/dataset/equipament-cultura-i-lleure/resource/f3721b17-bf9e-4bdd-853c-cb6200e1b442 cultural\n",
    "* https://opendata-ajuntament.barcelona.cat/data/es/dataset/arbrat-parcs/resource/23076aaa-4f0e-4045-b4e5-61d5e651b5a6 arbres parcs\n",
    "* https://opendata-ajuntament.barcelona.cat/data/es/dataset/arbrat-zona/resource/29cd5c1f-11b1-404b-b3a5-ae29940b8c55 arbres BCN\n",
    "* https://opendata-ajuntament.barcelona.cat/data/es/dataset/arbrat-viari/resource/23124fd5-521f-40f8-85b8-efb1e71c2ec8 arbres viari\n",
    "* https://opendata-ajuntament.barcelona.cat/data/es/dataset/np-nasia-miradors/resource/50e946a8-f4a2-4a16-8b40-6553bf4ccd81 \n",
    "miradors\n",
    "* https://opendata-ajuntament.barcelona.cat/data/es/dataset/equipament-cultura-i-lleure/resource/f3721b17-bf9e-4bdd-853c-cb6200e1b442 equipament cultura i lleure\n",
    "* https://opendata-ajuntament.barcelona.cat/data/es/dataset/equipament-esports/resource/6409e71a-6c79-4d21-9c14-373dbd01f26d equipaments esport\n",
    "* https://opendata-ajuntament.barcelona.cat/data/es/dataset/equipament-animals-i-plantes/resource/0b57a185-8986-4d0f-922f-da8415056575 equipaments animals i plantes\n",
    "* https://opendata-ajuntament.barcelona.cat/data/es/dataset/educacio-ensenyament-infantil/resource/114a72b3-2c9c-40c6-a7e6-d85dca704726 equipaments educacio infantils (0-6)\n",
    "* https://opendata-ajuntament.barcelona.cat/data/es/dataset/culturailleure-espaismusicacopes/resource/062da2e7-ddc9-4659-807a-2c1c5918b73c espais de musica, bars, pubs, karaokes...\n",
    "* https://opendata-ajuntament.barcelona.cat/data/es/dataset/culturailleure-bibliotequesimuseus/resource/d4803f9b-5f01-48d5-aeef-4ebbd76c5fd7 biblioteques i museus\n",
    "* https://opendata-ajuntament.barcelona.cat/data/es/dataset/culturailleure-cinemesteatresauditoris/resource/0f706441-b9d8-47c9-9e71-ced453810a72 cinemas i teatres \n",
    "* https://opendata-ajuntament.barcelona.cat/data/es/dataset/grans-centres-comercials/resource/d9153b84-2694-4c4f-8805-c861d4e98863 grans centres comercials\n",
    "* https://opendata-ajuntament.barcelona.cat/data/es/dataset/np-piscines/resource/0508ed3c-362b-4f1b-8980-bbdc06358155 psicinas cobertes i descobertes\n",
    "* https://opendata-ajuntament.barcelona.cat/data/es/dataset/renda-disponible-llars-bcn/resource/34ededd1-6271-4b9b-bac9-18a3fc264a48 Renta disponible per llar BCN 2018 \n",
    "* https://www.ine.es/jaxiT3/Datos.htm?t=2861 poblacion Barcelona ciutat 2017\n",
    "* https://ajuntament.barcelona.cat/estadistica/castella/Anuaris/Anuaris/anuari18/cap08/C0803020.htm Total delictes barcelona per districte 2017 (ultim any...)\n",
    "\n",
    "\n",
    "\n",
    "Falta mirar de ruido, aire (solo hay de Barcelona en agregado...) mas datos, pensar..\n"
   ]
  },
  {
   "cell_type": "code",
   "execution_count": 21,
   "metadata": {},
   "outputs": [],
   "source": [
    "# Base url for package information. This is always the same.\n",
    "base_url = 'https://opendata-ajuntament.barcelona.cat/data/api/action/datastore_search?resource_id='\n",
    "\n",
    "url_API = {\n",
    "# 'dataset' : '5539d248-2fe0-4ecc-89f5-c695ec7efa3c', # dataset 2022_01_Gener_ITINERARIS_ITINERARIS\n",
    "# 'terrazas2' : '878e188b-7efa-4695-acb6-b9527d7f2794', # datset terrazas + limit (todos resultados)\n",
    "# 'hospitales' : '9e135848-eb0a-4bc5-8e60-de558213b3ed', # \n",
    "# 'interes_turistico' : '31431b23-d5b9-42b8-bcd0-a84da9d8c7fa',\n",
    "# 'farmacias' : '2bf62aa3-63c8-4177-b57a-e32a8c7eb275',\n",
    "# 'educacion' : '29d9ff10-6892-4f16-9012-d5c4997857e7',\n",
    "# 'aparcamientos' : '26f6ecdd-b0ac-46c4-84f0-a312640913ca',\n",
    "# 'parques' : 'b64d32a8-aea5-47a8-9826-479b211f5d46',\n",
    "# 'cultural' : 'f3721b17-bf9e-4bdd-853c-cb6200e1b442',\n",
    "# 'arbres_parcs' : '23076aaa-4f0e-4045-b4e5-61d5e651b5a6',\n",
    "# 'arbres_bcn' : '29cd5c1f-11b1-404b-b3a5-ae29940b8c55',\n",
    "'arbres_viaris' : '23124fd5-521f-40f8-85b8-efb1e71c2ec8',\n",
    "# 'miradors' : '50e946a8-f4a2-4a16-8b40-6553bf4ccd81',\n",
    "# 'cultural_lleure' : 'f3721b17-bf9e-4bdd-853c-cb6200e1b442',\n",
    "# 'equip_esport' : '6409e71a-6c79-4d21-9c14-373dbd01f26d',\n",
    "# 'equip_animals' : '0b57a185-8986-4d0f-922f-da8415056575',\n",
    "# 'edud_infantil' : '114a72b3-2c9c-40c6-a7e6-d85dca704726',\n",
    "# 'bar_copas' : '062da2e7-ddc9-4659-807a-2c1c5918b73c',\n",
    "# 'biblio_museus' : 'd4803f9b-5f01-48d5-aeef-4ebbd76c5fd7',\n",
    "# 'cinema_teatres' : '0f706441-b9d8-47c9-9e71-ced453810a72',\n",
    "# 'centres_comercials' : 'd9153b84-2694-4c4f-8805-c861d4e98863',\n",
    "# 'psicinas' : '0508ed3c-362b-4f1b-8980-bbdc06358155'\n",
    "}\n",
    "\n",
    "\n",
    "# var_names = ['dataset','terrazas2','hospitales','interes_turistico','farmacias','educacion','aparcamientos','parques',\n",
    "#             'cultural','arbres_parcs','arbres_bcn','arbres_viaris','miradors','cultural_lleure','equip_esport','equip_animals',\n",
    "#             'edud_infantil','bar_copas','biblio_museus','cinema_teatres','centres_comercials','psicinas']\n",
    "\n",
    "limit = '&limit=200000'\n",
    "\n",
    "\n",
    "sql = 'https://opendata-ajuntament.barcelona.cat/data/api/action/datastore_search_sql?sql=SELECT * from \"f8bcf3ac-dec6-4099-ba4b-eeca9abf4ea3\"'\n",
    "\n",
    "# # Construct the url for the package of interest\n",
    "# package_information_url = base_url + url_API['arbres_parcs'] + limit\n",
    "\n",
    "# # Make the HTTP request\n",
    "# package_information = requests.get(package_information_url)\n",
    "\n",
    "# # Use the json module to load CKAN's response into a dictionary\n",
    "# package_dict = json.loads(package_information.content)\n",
    "\n",
    "# # Check the contents of the response.\n",
    "# assert package_dict['success'] is True  # again make sure if response is OK\n",
    "# package_dict = package_dict['result']   # we only need the 'result' part from the dictionary\n",
    "\n",
    "# pprint.pprint(package_dict)  "
   ]
  },
  {
   "cell_type": "code",
   "execution_count": 22,
   "metadata": {},
   "outputs": [
    {
     "name": "stdout",
     "output_type": "stream",
     "text": [
      "arbres_viaris\n"
     ]
    }
   ],
   "source": [
    "def get_data_API():\n",
    "    for var,url in url_API.items():\n",
    "        package_information_url = base_url + url + limit\n",
    "\n",
    "        # Make the HTTP request\n",
    "        package_information = requests.get(package_information_url)\n",
    "\n",
    "        # Use the json module to load CKAN's response into a dictionary\n",
    "        package_dict = json.loads(package_information.content)\n",
    "\n",
    "        # Check the contents of the response.\n",
    "        print(var)\n",
    "        try: \n",
    "            assert package_dict['success'] is True  # again make sure if response is OK\n",
    "            package_dict = package_dict['result']   # we only need the 'result' part from the dictionary\n",
    "\n",
    "            data_api = pd.DataFrame(package_dict['records'])\n",
    "\n",
    "            data_api.to_csv('dataset_opendata\\\\{}.csv'.format(var),encoding='utf-8-sig')\n",
    "        except:\n",
    "            AssertionError\n",
    "\n",
    "# url_API['aparcamientos']\n",
    "get_data_API()"
   ]
  },
  {
   "cell_type": "code",
   "execution_count": 4,
   "metadata": {},
   "outputs": [],
   "source": [
    "# data_api = pd.DataFrame(package_dict['records'])\n",
    "# data_api"
   ]
  },
  {
   "cell_type": "code",
   "execution_count": 5,
   "metadata": {},
   "outputs": [],
   "source": [
    "# data_api.to_csv('dataset_opendata\\\\aparcamientos.csv',encoding='utf-8-sig')"
   ]
  },
  {
   "cell_type": "code",
   "execution_count": 6,
   "metadata": {},
   "outputs": [],
   "source": [
    "# os.getcwd()"
   ]
  },
  {
   "cell_type": "code",
   "execution_count": 7,
   "metadata": {},
   "outputs": [],
   "source": [
    "# package_dict"
   ]
  },
  {
   "cell_type": "code",
   "execution_count": 8,
   "metadata": {},
   "outputs": [],
   "source": [
    "# data_api.columns"
   ]
  },
  {
   "cell_type": "code",
   "execution_count": 9,
   "metadata": {
    "scrolled": true
   },
   "outputs": [],
   "source": [
    "# hospitales.columns\n",
    "# sorted(hospitales.addresses_zip_code.unique()) # cp de hospitales"
   ]
  },
  {
   "cell_type": "code",
   "execution_count": 10,
   "metadata": {},
   "outputs": [],
   "source": [
    "# len(data_api.NOM_DISTRICTE.unique()), data_api.NOM_DISTRICTE.unique()"
   ]
  },
  {
   "cell_type": "code",
   "execution_count": 11,
   "metadata": {},
   "outputs": [],
   "source": [
    "# data_api.NOM_BARRI.unique()"
   ]
  },
  {
   "cell_type": "code",
   "execution_count": 12,
   "metadata": {},
   "outputs": [],
   "source": [
    "# os.getcwd()"
   ]
  },
  {
   "cell_type": "code",
   "execution_count": 13,
   "metadata": {},
   "outputs": [],
   "source": [
    "# # Datos Iealista\n",
    "# data = pd.read_csv('C:/Users/ggari/Desktop/Master_MESIO/TFM/srapper/data_scrapping/complete_csv_22-03-12.csv')\n",
    "# # Datos hospitales api Open data\n",
    "# hospitales = pd.read_csv('C:/Users/ggari/Desktop/Master_MESIO/TFM/srapper/dataset_opendata/hospitals_atencio_primaria.csv')"
   ]
  },
  {
   "cell_type": "code",
   "execution_count": 14,
   "metadata": {},
   "outputs": [],
   "source": [
    "# hospitales.columns"
   ]
  }
 ],
 "metadata": {
  "kernelspec": {
   "display_name": "Python 3",
   "language": "python",
   "name": "python3"
  },
  "language_info": {
   "codemirror_mode": {
    "name": "ipython",
    "version": 3
   },
   "file_extension": ".py",
   "mimetype": "text/x-python",
   "name": "python",
   "nbconvert_exporter": "python",
   "pygments_lexer": "ipython3",
   "version": "3.8.3"
  }
 },
 "nbformat": 4,
 "nbformat_minor": 4
}
